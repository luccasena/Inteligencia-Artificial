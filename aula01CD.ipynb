{
  "nbformat": 4,
  "nbformat_minor": 0,
  "metadata": {
    "colab": {
      "provenance": [],
      "toc_visible": true,
      "authorship_tag": "ABX9TyNUtvzGMq8mvXd3SzZH+pkg",
      "include_colab_link": true
    },
    "kernelspec": {
      "name": "python3",
      "display_name": "Python 3"
    },
    "language_info": {
      "name": "python"
    }
  },
  "cells": [
    {
      "cell_type": "markdown",
      "metadata": {
        "id": "view-in-github",
        "colab_type": "text"
      },
      "source": [
        "<a href=\"https://colab.research.google.com/github/luccasena/Inteligencia-Artificial/blob/main/aula01CD.ipynb\" target=\"_parent\"><img src=\"https://colab.research.google.com/assets/colab-badge.svg\" alt=\"Open In Colab\"/></a>"
      ]
    },
    {
      "cell_type": "markdown",
      "source": [
        "# Ciência de Dados - 2025.01 - Aula 01\n",
        "## Autor: Lucca de Sena Barbosa - 21/02/2025"
      ],
      "metadata": {
        "id": "kU8bfLbM1hMz"
      }
    },
    {
      "cell_type": "code",
      "execution_count": null,
      "metadata": {
        "id": "Oaf9K8Ew1TSO"
      },
      "outputs": [],
      "source": [
        "# Cálculo de dois números\n",
        "a = 25\n",
        "b = 54\n",
        "c = (b * a)"
      ]
    },
    {
      "cell_type": "code",
      "source": [
        "print(f\"Valor de a: {a}\")\n",
        "print(f\"Valor de b: {b}\")\n",
        "print(f\"Valor de c: {c}\")"
      ],
      "metadata": {
        "colab": {
          "base_uri": "https://localhost:8080/"
        },
        "id": "GwdIRuu32kjz",
        "outputId": "cf2bfca3-ba77-41e3-8ab6-a47fe3fcc676"
      },
      "execution_count": null,
      "outputs": [
        {
          "output_type": "stream",
          "name": "stdout",
          "text": [
            "Valor de a: 25\n",
            "Valor de b: 54\n",
            "Valor de c: 1350\n"
          ]
        }
      ]
    }
  ]
}